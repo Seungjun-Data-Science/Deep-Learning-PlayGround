{
  "cells": [
    {
      "metadata": {
        "collapsed": true
      },
      "cell_type": "markdown",
      "source": "# Basic MLP NN with MNIST"
    },
    {
      "metadata": {},
      "cell_type": "markdown",
      "source": "## Import packages"
    },
    {
      "metadata": {
        "trusted": true
      },
      "cell_type": "code",
      "source": "from keras.datasets import mnist\nfrom keras.preprocessing.image import load_img, array_to_img\nfrom keras.utils.np_utils import to_categorical\nfrom keras.models import Sequential\nfrom keras.layers import Dense\n\nimport numpy as np\nimport matplotlib.pyplot as plt\n%matplotlib inline",
      "execution_count": 1,
      "outputs": [
        {
          "output_type": "stream",
          "text": "/home/nbuser/anaconda3_420/lib/python3.5/site-packages/h5py/__init__.py:36: FutureWarning: Conversion of the second argument of issubdtype from `float` to `np.floating` is deprecated. In future, it will be treated as `np.float64 == np.dtype(float).type`.\n  from ._conv import register_converters as _register_converters\nUsing TensorFlow backend.\n",
          "name": "stderr"
        }
      ]
    },
    {
      "metadata": {},
      "cell_type": "markdown",
      "source": "## Load the data"
    },
    {
      "metadata": {
        "trusted": true
      },
      "cell_type": "code",
      "source": "(X_train, y_train), (X_test, y_test) = mnist.load_data()",
      "execution_count": 2,
      "outputs": [
        {
          "output_type": "stream",
          "text": "Downloading data from https://s3.amazonaws.com/img-datasets/mnist.npz\n11419648/11490434 [============================>.] - ETA: 0s",
          "name": "stdout"
        }
      ]
    },
    {
      "metadata": {
        "trusted": true
      },
      "cell_type": "code",
      "source": "print(X_train.shape, y_train.shape)",
      "execution_count": 3,
      "outputs": [
        {
          "output_type": "stream",
          "text": "(60000, 28, 28) (60000,)\n",
          "name": "stdout"
        }
      ]
    },
    {
      "metadata": {
        "trusted": true
      },
      "cell_type": "code",
      "source": "print(X_test.shape, y_test.shape)",
      "execution_count": 4,
      "outputs": [
        {
          "output_type": "stream",
          "text": "(10000, 28, 28) (10000,)\n",
          "name": "stdout"
        }
      ]
    },
    {
      "metadata": {
        "collapsed": true
      },
      "cell_type": "markdown",
      "source": "## Understanding the image data format"
    },
    {
      "metadata": {
        "trusted": true
      },
      "cell_type": "code",
      "source": "X_train[0].shape",
      "execution_count": 5,
      "outputs": [
        {
          "output_type": "execute_result",
          "execution_count": 5,
          "data": {
            "text/plain": "(28, 28)"
          },
          "metadata": {}
        }
      ]
    },
    {
      "metadata": {
        "trusted": true
      },
      "cell_type": "code",
      "source": "plt.imshow(X_train[0], cmap='gray')",
      "execution_count": 6,
      "outputs": [
        {
          "output_type": "execute_result",
          "execution_count": 6,
          "data": {
            "text/plain": "<matplotlib.image.AxesImage at 0x7fa1c7075dd8>"
          },
          "metadata": {}
        },
        {
          "output_type": "display_data",
          "data": {
            "image/png": "[encoded data removed]",
            "text/plain": "<matplotlib.figure.Figure at 0x7fa1c6daaa20>"
          },
          "metadata": {}
        }
      ]
    },
    {
      "metadata": {
        "trusted": true
      },
      "cell_type": "code",
      "source": "y_train[0]",
      "execution_count": 7,
      "outputs": [
        {
          "output_type": "execute_result",
          "execution_count": 7,
          "data": {
            "text/plain": "5"
          },
          "metadata": {}
        }
      ]
    },
    {
      "metadata": {},
      "cell_type": "markdown",
      "source": "## Preprocessing the image data"
    },
    {
      "metadata": {
        "trusted": true
      },
      "cell_type": "code",
      "source": "image_height, image_width = 28, 28",
      "execution_count": 8,
      "outputs": []
    },
    {
      "metadata": {
        "trusted": true
      },
      "cell_type": "code",
      "source": "X_train = X_train.reshape(60000, image_height*image_width)\nX_test = X_test.reshape(10000, image_height*image_width)\n\nprint(X_train.shape)\nprint(X_test.shape)",
      "execution_count": 9,
      "outputs": [
        {
          "output_type": "stream",
          "text": "(60000, 784)\n(10000, 784)\n",
          "name": "stdout"
        }
      ]
    },
    {
      "metadata": {
        "trusted": true,
        "scrolled": true
      },
      "cell_type": "code",
      "source": "X_train = X_train.astype(\"float32\")\nX_test = X_test.astype(\"float32\")",
      "execution_count": 10,
      "outputs": []
    },
    {
      "metadata": {
        "trusted": true
      },
      "cell_type": "code",
      "source": "X_train /= 255.0\nX_test /= 255.0",
      "execution_count": 11,
      "outputs": []
    },
    {
      "metadata": {
        "trusted": true
      },
      "cell_type": "code",
      "source": "print(y_train.shape)\nprint(y_test.shape)",
      "execution_count": 12,
      "outputs": [
        {
          "output_type": "stream",
          "text": "(60000,)\n(10000,)\n",
          "name": "stdout"
        }
      ]
    },
    {
      "metadata": {
        "trusted": true
      },
      "cell_type": "code",
      "source": "# 10 different bins (0~9 number)\ny_train = to_categorical(y_train, 10)\ny_test = to_categorical(y_test, 10)\n\nprint(y_train.shape)\nprint(y_test.shape)",
      "execution_count": 13,
      "outputs": [
        {
          "output_type": "stream",
          "text": "(60000, 10)\n(10000, 10)\n",
          "name": "stdout"
        }
      ]
    },
    {
      "metadata": {
        "collapsed": true
      },
      "cell_type": "markdown",
      "source": "## Build a model"
    },
    {
      "metadata": {
        "trusted": true
      },
      "cell_type": "code",
      "source": "model = Sequential()",
      "execution_count": 14,
      "outputs": []
    },
    {
      "metadata": {
        "trusted": true
      },
      "cell_type": "code",
      "source": "# 512 nodes and RELU as activation function\n\nmodel.add(Dense(512, activation='relu', input_shape=(784, )))\nmodel.add(Dense(512, activation='relu'))\nmodel.add(Dense(10,activation='softmax'))",
      "execution_count": 15,
      "outputs": []
    },
    {
      "metadata": {
        "collapsed": true
      },
      "cell_type": "markdown",
      "source": "## Compile the model"
    },
    {
      "metadata": {
        "trusted": true
      },
      "cell_type": "code",
      "source": "model.compile(optimizer='adam',loss='categorical_crossentropy', metrics=['accuracy'])",
      "execution_count": 18,
      "outputs": []
    },
    {
      "metadata": {
        "trusted": true
      },
      "cell_type": "code",
      "source": "model.summary()",
      "execution_count": 19,
      "outputs": [
        {
          "output_type": "stream",
          "text": "_________________________________________________________________\nLayer (type)                 Output Shape              Param #   \n=================================================================\ndense_1 (Dense)              (None, 512)               401920    \n_________________________________________________________________\ndense_2 (Dense)              (None, 512)               262656    \n_________________________________________________________________\ndense_3 (Dense)              (None, 10)                5130      \n=================================================================\nTotal params: 669,706\nTrainable params: 669,706\nNon-trainable params: 0\n_________________________________________________________________\n",
          "name": "stdout"
        }
      ]
    },
    {
      "metadata": {
        "trusted": true
      },
      "cell_type": "code",
      "source": "# dense_1: +512 is adding bias\n784*512 + 512",
      "execution_count": 20,
      "outputs": [
        {
          "output_type": "execute_result",
          "execution_count": 20,
          "data": {
            "text/plain": "401920"
          },
          "metadata": {}
        }
      ]
    },
    {
      "metadata": {
        "trusted": true
      },
      "cell_type": "code",
      "source": "# dense_2\n512*512+512",
      "execution_count": 21,
      "outputs": [
        {
          "output_type": "execute_result",
          "execution_count": 21,
          "data": {
            "text/plain": "262656"
          },
          "metadata": {}
        }
      ]
    },
    {
      "metadata": {
        "trusted": true
      },
      "cell_type": "code",
      "source": "# dense_3\n512*10+10",
      "execution_count": 22,
      "outputs": [
        {
          "output_type": "execute_result",
          "execution_count": 22,
          "data": {
            "text/plain": "5130"
          },
          "metadata": {}
        }
      ]
    },
    {
      "metadata": {
        "collapsed": true
      },
      "cell_type": "markdown",
      "source": "## Train the model"
    },
    {
      "metadata": {
        "trusted": true
      },
      "cell_type": "code",
      "source": "history = model.fit(X_train, y_train, epochs=20, validation_data=(X_test, y_test))",
      "execution_count": 23,
      "outputs": [
        {
          "output_type": "stream",
          "text": "Train on 60000 samples, validate on 10000 samples\nEpoch 1/20\n60000/60000 [==============================] - 28s - loss: 0.1835 - acc: 0.9433 - val_loss: 0.0955 - val_acc: 0.9708\nEpoch 2/20\n60000/60000 [==============================] - 26s - loss: 0.0803 - acc: 0.9750 - val_loss: 0.0984 - val_acc: 0.9700\nEpoch 3/20\n60000/60000 [==============================] - 25s - loss: 0.0563 - acc: 0.9822 - val_loss: 0.0843 - val_acc: 0.9750\nEpoch 4/20\n60000/60000 [==============================] - 25s - loss: 0.0451 - acc: 0.9856 - val_loss: 0.0767 - val_acc: 0.9795\nEpoch 5/20\n60000/60000 [==============================] - 26s - loss: 0.0357 - acc: 0.9886 - val_loss: 0.0812 - val_acc: 0.9783\nEpoch 6/20\n60000/60000 [==============================] - 27s - loss: 0.0308 - acc: 0.9902 - val_loss: 0.0921 - val_acc: 0.9777\nEpoch 7/20\n60000/60000 [==============================] - 28s - loss: 0.0264 - acc: 0.9911 - val_loss: 0.0900 - val_acc: 0.9806\nEpoch 8/20\n60000/60000 [==============================] - 25s - loss: 0.0205 - acc: 0.9935 - val_loss: 0.1282 - val_acc: 0.9721\nEpoch 9/20\n60000/60000 [==============================] - 24s - loss: 0.0233 - acc: 0.9932 - val_loss: 0.0832 - val_acc: 0.9794\nEpoch 10/20\n60000/60000 [==============================] - 24s - loss: 0.0164 - acc: 0.9947 - val_loss: 0.1054 - val_acc: 0.9771\nEpoch 11/20\n60000/60000 [==============================] - 24s - loss: 0.0214 - acc: 0.9936 - val_loss: 0.1024 - val_acc: 0.9802\nEpoch 12/20\n60000/60000 [==============================] - 24s - loss: 0.0165 - acc: 0.9954 - val_loss: 0.0947 - val_acc: 0.9819\nEpoch 13/20\n60000/60000 [==============================] - 25s - loss: 0.0177 - acc: 0.9953 - val_loss: 0.1146 - val_acc: 0.9797\nEpoch 14/20\n60000/60000 [==============================] - 25s - loss: 0.0174 - acc: 0.9950 - val_loss: 0.1254 - val_acc: 0.9798\nEpoch 15/20\n60000/60000 [==============================] - 25s - loss: 0.0144 - acc: 0.9959 - val_loss: 0.1050 - val_acc: 0.9834\nEpoch 16/20\n60000/60000 [==============================] - 25s - loss: 0.0160 - acc: 0.9959 - val_loss: 0.1274 - val_acc: 0.9757\nEpoch 17/20\n60000/60000 [==============================] - 25s - loss: 0.0126 - acc: 0.9966 - val_loss: 0.1354 - val_acc: 0.9785\nEpoch 18/20\n60000/60000 [==============================] - 26s - loss: 0.0127 - acc: 0.9965 - val_loss: 0.1140 - val_acc: 0.9832\nEpoch 19/20\n60000/60000 [==============================] - 25s - loss: 0.0154 - acc: 0.9960 - val_loss: 0.1197 - val_acc: 0.9824\nEpoch 20/20\n60000/60000 [==============================] - 25s - loss: 0.0135 - acc: 0.9965 - val_loss: 0.1161 - val_acc: 0.9812\n",
          "name": "stdout"
        }
      ]
    },
    {
      "metadata": {},
      "cell_type": "markdown",
      "source": "## What is the accuracy of the model?"
    },
    {
      "metadata": {},
      "cell_type": "markdown",
      "source": "### Plot the accuracy of the training model"
    },
    {
      "metadata": {
        "trusted": true
      },
      "cell_type": "code",
      "source": "plt.plot(history.history['acc'])",
      "execution_count": 25,
      "outputs": [
        {
          "output_type": "execute_result",
          "execution_count": 25,
          "data": {
            "text/plain": "[<matplotlib.lines.Line2D at 0x7fa1c6171c50>]"
          },
          "metadata": {}
        },
        {
          "output_type": "display_data",
          "data": {
            "image/png": "[encoded data removed]",
            "text/plain": "<matplotlib.figure.Figure at 0x7fa1c616d780>"
          },
          "metadata": {}
        }
      ]
    },
    {
      "metadata": {
        "collapsed": true
      },
      "cell_type": "markdown",
      "source": "### Plot the accuracy of training and validation set"
    },
    {
      "metadata": {
        "trusted": true
      },
      "cell_type": "code",
      "source": "plt.plot(history.history['acc'])\nplt.plot(history.history['val_acc'])",
      "execution_count": 26,
      "outputs": [
        {
          "output_type": "execute_result",
          "execution_count": 26,
          "data": {
            "text/plain": "[<matplotlib.lines.Line2D at 0x7fa1c6545390>]"
          },
          "metadata": {}
        },
        {
          "output_type": "display_data",
          "data": {
            "image/png": "[encoded data removed]",
            "text/plain": "<matplotlib.figure.Figure at 0x7fa1c68d02b0>"
          },
          "metadata": {}
        }
      ]
    },
    {
      "metadata": {
        "collapsed": true
      },
      "cell_type": "markdown",
      "source": "### Accuracy of training and validation with loss"
    },
    {
      "metadata": {
        "trusted": true
      },
      "cell_type": "code",
      "source": "plt.plot(history.history['acc'])\nplt.plot(history.history['val_acc'])\nplt.plot(history.history['loss'])",
      "execution_count": 27,
      "outputs": [
        {
          "output_type": "execute_result",
          "execution_count": 27,
          "data": {
            "text/plain": "[<matplotlib.lines.Line2D at 0x7fa1c6100240>]"
          },
          "metadata": {}
        },
        {
          "output_type": "display_data",
          "data": {
            "image/png": "[encoded data removed]",
            "text/plain": "<matplotlib.figure.Figure at 0x7fa1c68d8860>"
          },
          "metadata": {}
        }
      ]
    },
    {
      "metadata": {},
      "cell_type": "markdown",
      "source": "### Evaluating the model"
    },
    {
      "metadata": {
        "trusted": true
      },
      "cell_type": "code",
      "source": "score = model.evaluate(X_test,y_test)",
      "execution_count": 28,
      "outputs": [
        {
          "output_type": "stream",
          "text": " 9600/10000 [===========================>..] - ETA: 0s",
          "name": "stdout"
        }
      ]
    },
    {
      "metadata": {
        "trusted": true
      },
      "cell_type": "code",
      "source": "score",
      "execution_count": 29,
      "outputs": [
        {
          "output_type": "execute_result",
          "execution_count": 29,
          "data": {
            "text/plain": "[0.11612686674798742, 0.9812]"
          },
          "metadata": {}
        }
      ]
    }
  ],
  "metadata": {
    "kernelspec": {
      "name": "python3",
      "display_name": "Python 3",
      "language": "python"
    },
    "language_info": {
      "mimetype": "text/x-python",
      "nbconvert_exporter": "python",
      "name": "python",
      "pygments_lexer": "ipython3",
      "version": "3.5.4",
      "file_extension": ".py",
      "codemirror_mode": {
        "version": 3,
        "name": "ipython"
      }
    }
  },
  "nbformat": 4,
  "nbformat_minor": 2
}